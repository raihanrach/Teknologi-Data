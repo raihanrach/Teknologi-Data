{
  "nbformat": 4,
  "nbformat_minor": 0,
  "metadata": {
    "colab": {
      "name": "week5.ipynb",
      "provenance": [],
      "authorship_tag": "ABX9TyPTgsRJqXN2MWh64gX2Qyrl",
      "include_colab_link": true
    },
    "kernelspec": {
      "name": "python3",
      "display_name": "Python 3"
    },
    "language_info": {
      "name": "python"
    }
  },
  "cells": [
    {
      "cell_type": "markdown",
      "metadata": {
        "id": "view-in-github",
        "colab_type": "text"
      },
      "source": [
        "<a href=\"https://colab.research.google.com/github/raihanrach/Teknologi-Data/blob/main/week5.ipynb\" target=\"_parent\"><img src=\"https://colab.research.google.com/assets/colab-badge.svg\" alt=\"Open In Colab\"/></a>"
      ]
    },
    {
      "cell_type": "code",
      "metadata": {
        "id": "qYpMgEIBh_Vh"
      },
      "source": [
        "df = pd.read_csv('/content/drive/MyDrive/Kampus/Semester 6/Teknologi Data/Minggu 5/BreadBasket_DMS.csv')"
      ],
      "execution_count": 9,
      "outputs": []
    },
    {
      "cell_type": "code",
      "metadata": {
        "id": "nVVUcPQIjZHa",
        "outputId": "12c35b64-01ed-4ba9-a9ac-5111c515fd64",
        "colab": {
          "base_uri": "https://localhost:8080/"
        }
      },
      "source": [
        "df.Item.unique()"
      ],
      "execution_count": 10,
      "outputs": [
        {
          "output_type": "execute_result",
          "data": {
            "text/plain": [
              "array(['Bread', 'Scandinavian', 'Hot chocolate', 'Jam', 'Cookies',\n",
              "       'Muffin', 'Coffee', 'Pastry', 'Medialuna', 'Tea', 'NONE',\n",
              "       'Tartine', 'Basket', 'Mineral water', 'Farm House', 'Fudge',\n",
              "       'Juice', \"Ella's Kitchen Pouches\", 'Victorian Sponge', 'Frittata',\n",
              "       'Hearty & Seasonal', 'Soup', 'Pick and Mix Bowls', 'Smoothies',\n",
              "       'Cake', 'Mighty Protein', 'Chicken sand', 'Coke',\n",
              "       'My-5 Fruit Shoot', 'Focaccia', 'Sandwich', 'Alfajores', 'Eggs',\n",
              "       'Brownie', 'Dulce de Leche', 'Honey', 'The BART', 'Granola',\n",
              "       'Fairy Doors', 'Empanadas', 'Keeping It Local', 'Art Tray',\n",
              "       'Bowl Nic Pitt', 'Bread Pudding', 'Adjustment', 'Truffles',\n",
              "       'Chimichurri Oil', 'Bacon', 'Spread', 'Kids biscuit', 'Siblings',\n",
              "       'Caramel bites', 'Jammie Dodgers', 'Tiffin', 'Olum & polenta',\n",
              "       'Polenta', 'The Nomad', 'Hack the stack', 'Bakewell',\n",
              "       'Lemon and coconut', 'Toast', 'Scone', 'Crepes', 'Vegan mincepie',\n",
              "       'Bare Popcorn', 'Muesli', 'Crisps', 'Pintxos', 'Gingerbread syrup',\n",
              "       'Panatone', 'Brioche and salami', 'Afternoon with the baker',\n",
              "       'Salad', 'Chicken Stew', 'Spanish Brunch',\n",
              "       'Raspberry shortbread sandwich', 'Extra Salami or Feta',\n",
              "       'Duck egg', 'Baguette', \"Valentine's card\", 'Tshirt',\n",
              "       'Vegan Feast', 'Postcard', 'Nomad bag', 'Chocolates',\n",
              "       'Coffee granules ', 'Drinking chocolate spoons ',\n",
              "       'Christmas common', 'Argentina Night', 'Half slice Monster ',\n",
              "       'Gift voucher', 'Cherry me Dried fruit', 'Mortimer', 'Raw bars',\n",
              "       'Tacos/Fajita'], dtype=object)"
            ]
          },
          "metadata": {
            "tags": []
          },
          "execution_count": 10
        }
      ]
    },
    {
      "cell_type": "code",
      "metadata": {
        "id": "niAEGR69kAHg",
        "outputId": "19af9b7d-6e10-4561-c23b-83a9d84c8591",
        "colab": {
          "base_uri": "https://localhost:8080/"
        }
      },
      "source": [
        "df.Item.drop_duplicates()"
      ],
      "execution_count": 11,
      "outputs": [
        {
          "output_type": "execute_result",
          "data": {
            "text/plain": [
              "0                        Bread\n",
              "1                 Scandinavian\n",
              "3                Hot chocolate\n",
              "4                          Jam\n",
              "5                      Cookies\n",
              "                 ...          \n",
              "17828             Gift voucher\n",
              "18035    Cherry me Dried fruit\n",
              "18111                 Mortimer\n",
              "19801                 Raw bars\n",
              "21096             Tacos/Fajita\n",
              "Name: Item, Length: 95, dtype: object"
            ]
          },
          "metadata": {
            "tags": []
          },
          "execution_count": 11
        }
      ]
    },
    {
      "cell_type": "code",
      "metadata": {
        "id": "nDCimMfnkP7w",
        "outputId": "2fa35198-4a7e-4158-dc7a-d750488964f9",
        "colab": {
          "base_uri": "https://localhost:8080/",
          "height": 143
        }
      },
      "source": [
        "df.head(3)"
      ],
      "execution_count": 12,
      "outputs": [
        {
          "output_type": "execute_result",
          "data": {
            "text/html": [
              "<div>\n",
              "<style scoped>\n",
              "    .dataframe tbody tr th:only-of-type {\n",
              "        vertical-align: middle;\n",
              "    }\n",
              "\n",
              "    .dataframe tbody tr th {\n",
              "        vertical-align: top;\n",
              "    }\n",
              "\n",
              "    .dataframe thead th {\n",
              "        text-align: right;\n",
              "    }\n",
              "</style>\n",
              "<table border=\"1\" class=\"dataframe\">\n",
              "  <thead>\n",
              "    <tr style=\"text-align: right;\">\n",
              "      <th></th>\n",
              "      <th>Date</th>\n",
              "      <th>Time</th>\n",
              "      <th>Transaction</th>\n",
              "      <th>Item</th>\n",
              "    </tr>\n",
              "  </thead>\n",
              "  <tbody>\n",
              "    <tr>\n",
              "      <th>0</th>\n",
              "      <td>2016-10-30</td>\n",
              "      <td>09:58:11</td>\n",
              "      <td>1</td>\n",
              "      <td>Bread</td>\n",
              "    </tr>\n",
              "    <tr>\n",
              "      <th>1</th>\n",
              "      <td>2016-10-30</td>\n",
              "      <td>10:05:34</td>\n",
              "      <td>2</td>\n",
              "      <td>Scandinavian</td>\n",
              "    </tr>\n",
              "    <tr>\n",
              "      <th>2</th>\n",
              "      <td>2016-10-30</td>\n",
              "      <td>10:05:34</td>\n",
              "      <td>2</td>\n",
              "      <td>Scandinavian</td>\n",
              "    </tr>\n",
              "  </tbody>\n",
              "</table>\n",
              "</div>"
            ],
            "text/plain": [
              "         Date      Time  Transaction          Item\n",
              "0  2016-10-30  09:58:11            1         Bread\n",
              "1  2016-10-30  10:05:34            2  Scandinavian\n",
              "2  2016-10-30  10:05:34            2  Scandinavian"
            ]
          },
          "metadata": {
            "tags": []
          },
          "execution_count": 12
        }
      ]
    },
    {
      "cell_type": "code",
      "metadata": {
        "id": "y7FlHlATkUdh",
        "outputId": "ad128f4a-91e3-4e83-ab93-0b67442d5b62",
        "colab": {
          "base_uri": "https://localhost:8080/"
        }
      },
      "source": [
        "topten = df.Item.value_counts()\n",
        "topten.head(10)"
      ],
      "execution_count": 13,
      "outputs": [
        {
          "output_type": "execute_result",
          "data": {
            "text/plain": [
              "Coffee           5471\n",
              "Bread            3325\n",
              "Tea              1435\n",
              "Cake             1025\n",
              "Pastry            856\n",
              "NONE              786\n",
              "Sandwich          771\n",
              "Medialuna         616\n",
              "Hot chocolate     590\n",
              "Cookies           540\n",
              "Name: Item, dtype: int64"
            ]
          },
          "metadata": {
            "tags": []
          },
          "execution_count": 13
        }
      ]
    },
    {
      "cell_type": "code",
      "metadata": {
        "id": "2f3fsdankdBW",
        "outputId": "c8df2d91-6d7a-421a-9a0e-e981b2b01717",
        "colab": {
          "base_uri": "https://localhost:8080/"
        }
      },
      "source": [
        "df = df[df['Item'] != 'NONE']\n",
        "df.info()"
      ],
      "execution_count": 14,
      "outputs": [
        {
          "output_type": "stream",
          "text": [
            "<class 'pandas.core.frame.DataFrame'>\n",
            "Int64Index: 20507 entries, 0 to 21292\n",
            "Data columns (total 4 columns):\n",
            " #   Column       Non-Null Count  Dtype \n",
            "---  ------       --------------  ----- \n",
            " 0   Date         20507 non-null  object\n",
            " 1   Time         20507 non-null  object\n",
            " 2   Transaction  20507 non-null  int64 \n",
            " 3   Item         20507 non-null  object\n",
            "dtypes: int64(1), object(3)\n",
            "memory usage: 801.1+ KB\n"
          ],
          "name": "stdout"
        }
      ]
    },
    {
      "cell_type": "code",
      "metadata": {
        "id": "XNHVIwzhkvt-",
        "outputId": "b0ff7920-b5af-463b-c343-8141559965bf",
        "colab": {
          "base_uri": "https://localhost:8080/"
        }
      },
      "source": [
        "print(\"Number of unique item:\", df.Item.nunique())\n",
        "len(df['Item'].unique())"
      ],
      "execution_count": 16,
      "outputs": [
        {
          "output_type": "stream",
          "text": [
            "Number of unique item: 94\n"
          ],
          "name": "stdout"
        },
        {
          "output_type": "execute_result",
          "data": {
            "text/plain": [
              "94"
            ]
          },
          "metadata": {
            "tags": []
          },
          "execution_count": 16
        }
      ]
    },
    {
      "cell_type": "code",
      "metadata": {
        "id": "EU-ZU-A3lH5X",
        "outputId": "52bb6e7d-9da6-4474-fef3-953f617314cb",
        "colab": {
          "base_uri": "https://localhost:8080/",
          "height": 143
        }
      },
      "source": [
        "df.head(3)"
      ],
      "execution_count": 17,
      "outputs": [
        {
          "output_type": "execute_result",
          "data": {
            "text/html": [
              "<div>\n",
              "<style scoped>\n",
              "    .dataframe tbody tr th:only-of-type {\n",
              "        vertical-align: middle;\n",
              "    }\n",
              "\n",
              "    .dataframe tbody tr th {\n",
              "        vertical-align: top;\n",
              "    }\n",
              "\n",
              "    .dataframe thead th {\n",
              "        text-align: right;\n",
              "    }\n",
              "</style>\n",
              "<table border=\"1\" class=\"dataframe\">\n",
              "  <thead>\n",
              "    <tr style=\"text-align: right;\">\n",
              "      <th></th>\n",
              "      <th>Date</th>\n",
              "      <th>Time</th>\n",
              "      <th>Transaction</th>\n",
              "      <th>Item</th>\n",
              "    </tr>\n",
              "  </thead>\n",
              "  <tbody>\n",
              "    <tr>\n",
              "      <th>0</th>\n",
              "      <td>2016-10-30</td>\n",
              "      <td>09:58:11</td>\n",
              "      <td>1</td>\n",
              "      <td>Bread</td>\n",
              "    </tr>\n",
              "    <tr>\n",
              "      <th>1</th>\n",
              "      <td>2016-10-30</td>\n",
              "      <td>10:05:34</td>\n",
              "      <td>2</td>\n",
              "      <td>Scandinavian</td>\n",
              "    </tr>\n",
              "    <tr>\n",
              "      <th>2</th>\n",
              "      <td>2016-10-30</td>\n",
              "      <td>10:05:34</td>\n",
              "      <td>2</td>\n",
              "      <td>Scandinavian</td>\n",
              "    </tr>\n",
              "  </tbody>\n",
              "</table>\n",
              "</div>"
            ],
            "text/plain": [
              "         Date      Time  Transaction          Item\n",
              "0  2016-10-30  09:58:11            1         Bread\n",
              "1  2016-10-30  10:05:34            2  Scandinavian\n",
              "2  2016-10-30  10:05:34            2  Scandinavian"
            ]
          },
          "metadata": {
            "tags": []
          },
          "execution_count": 17
        }
      ]
    },
    {
      "cell_type": "code",
      "metadata": {
        "id": "5WdWtmnplNkA",
        "outputId": "f6eebf2a-a9ca-49f1-d9f3-74e4e61578cc",
        "colab": {
          "base_uri": "https://localhost:8080/"
        }
      },
      "source": [
        "df['Year'] = df ['Date'].str[0:4]\n",
        "df['Year'].head()"
      ],
      "execution_count": 18,
      "outputs": [
        {
          "output_type": "execute_result",
          "data": {
            "text/plain": [
              "0    2016\n",
              "1    2016\n",
              "2    2016\n",
              "3    2016\n",
              "4    2016\n",
              "Name: Year, dtype: object"
            ]
          },
          "metadata": {
            "tags": []
          },
          "execution_count": 18
        }
      ]
    },
    {
      "cell_type": "code",
      "metadata": {
        "id": "8SvsUDqclcMx",
        "outputId": "635e70eb-c3d2-4c9a-a8d0-7bcb38323d87",
        "colab": {
          "base_uri": "https://localhost:8080/",
          "height": 206
        }
      },
      "source": [
        "df['Year'] = df.Date.apply(lambda x: x.split('-')[0])\n",
        "df['Month'] = df.Date.apply(lambda x: x.split('-')[1])\n",
        "df['Day'] = df.Date.apply(lambda x: x.split('-')[2])\n",
        "df['Hour'] = df.Date.apply(lambda x: x.split('-')[0])\n",
        "df.head()"
      ],
      "execution_count": 19,
      "outputs": [
        {
          "output_type": "execute_result",
          "data": {
            "text/html": [
              "<div>\n",
              "<style scoped>\n",
              "    .dataframe tbody tr th:only-of-type {\n",
              "        vertical-align: middle;\n",
              "    }\n",
              "\n",
              "    .dataframe tbody tr th {\n",
              "        vertical-align: top;\n",
              "    }\n",
              "\n",
              "    .dataframe thead th {\n",
              "        text-align: right;\n",
              "    }\n",
              "</style>\n",
              "<table border=\"1\" class=\"dataframe\">\n",
              "  <thead>\n",
              "    <tr style=\"text-align: right;\">\n",
              "      <th></th>\n",
              "      <th>Date</th>\n",
              "      <th>Time</th>\n",
              "      <th>Transaction</th>\n",
              "      <th>Item</th>\n",
              "      <th>Year</th>\n",
              "      <th>Month</th>\n",
              "      <th>Day</th>\n",
              "      <th>Hour</th>\n",
              "    </tr>\n",
              "  </thead>\n",
              "  <tbody>\n",
              "    <tr>\n",
              "      <th>0</th>\n",
              "      <td>2016-10-30</td>\n",
              "      <td>09:58:11</td>\n",
              "      <td>1</td>\n",
              "      <td>Bread</td>\n",
              "      <td>2016</td>\n",
              "      <td>10</td>\n",
              "      <td>30</td>\n",
              "      <td>2016</td>\n",
              "    </tr>\n",
              "    <tr>\n",
              "      <th>1</th>\n",
              "      <td>2016-10-30</td>\n",
              "      <td>10:05:34</td>\n",
              "      <td>2</td>\n",
              "      <td>Scandinavian</td>\n",
              "      <td>2016</td>\n",
              "      <td>10</td>\n",
              "      <td>30</td>\n",
              "      <td>2016</td>\n",
              "    </tr>\n",
              "    <tr>\n",
              "      <th>2</th>\n",
              "      <td>2016-10-30</td>\n",
              "      <td>10:05:34</td>\n",
              "      <td>2</td>\n",
              "      <td>Scandinavian</td>\n",
              "      <td>2016</td>\n",
              "      <td>10</td>\n",
              "      <td>30</td>\n",
              "      <td>2016</td>\n",
              "    </tr>\n",
              "    <tr>\n",
              "      <th>3</th>\n",
              "      <td>2016-10-30</td>\n",
              "      <td>10:07:57</td>\n",
              "      <td>3</td>\n",
              "      <td>Hot chocolate</td>\n",
              "      <td>2016</td>\n",
              "      <td>10</td>\n",
              "      <td>30</td>\n",
              "      <td>2016</td>\n",
              "    </tr>\n",
              "    <tr>\n",
              "      <th>4</th>\n",
              "      <td>2016-10-30</td>\n",
              "      <td>10:07:57</td>\n",
              "      <td>3</td>\n",
              "      <td>Jam</td>\n",
              "      <td>2016</td>\n",
              "      <td>10</td>\n",
              "      <td>30</td>\n",
              "      <td>2016</td>\n",
              "    </tr>\n",
              "  </tbody>\n",
              "</table>\n",
              "</div>"
            ],
            "text/plain": [
              "         Date      Time  Transaction           Item  Year Month Day  Hour\n",
              "0  2016-10-30  09:58:11            1          Bread  2016    10  30  2016\n",
              "1  2016-10-30  10:05:34            2   Scandinavian  2016    10  30  2016\n",
              "2  2016-10-30  10:05:34            2   Scandinavian  2016    10  30  2016\n",
              "3  2016-10-30  10:07:57            3  Hot chocolate  2016    10  30  2016\n",
              "4  2016-10-30  10:07:57            3            Jam  2016    10  30  2016"
            ]
          },
          "metadata": {
            "tags": []
          },
          "execution_count": 19
        }
      ]
    },
    {
      "cell_type": "code",
      "metadata": {
        "id": "AUlBBmpimcSZ",
        "outputId": "7bd5526f-a0b6-492d-b645-a890cf22977d",
        "colab": {
          "base_uri": "https://localhost:8080/"
        }
      },
      "source": [
        "item_sales = df.Item.value_counts()\n",
        "topten = item_sales[:10]\n",
        "topten"
      ],
      "execution_count": 20,
      "outputs": [
        {
          "output_type": "execute_result",
          "data": {
            "text/plain": [
              "Coffee           5471\n",
              "Bread            3325\n",
              "Tea              1435\n",
              "Cake             1025\n",
              "Pastry            856\n",
              "Sandwich          771\n",
              "Medialuna         616\n",
              "Hot chocolate     590\n",
              "Cookies           540\n",
              "Brownie           379\n",
              "Name: Item, dtype: int64"
            ]
          },
          "metadata": {
            "tags": []
          },
          "execution_count": 20
        }
      ]
    },
    {
      "cell_type": "code",
      "metadata": {
        "id": "e4KxdpqimlyN",
        "outputId": "5fb3457e-98df-4846-9d66-3a871be4d2d3",
        "colab": {
          "base_uri": "https://localhost:8080/",
          "height": 369
        }
      },
      "source": [
        "sns.set (style = 'whitegrid')\n",
        "toptenbar = topten.plot.bar(title = 'Top 10 Sales')\n",
        "toptenbar.legend(['Number of items sold'])"
      ],
      "execution_count": 22,
      "outputs": [
        {
          "output_type": "execute_result",
          "data": {
            "text/plain": [
              "<matplotlib.legend.Legend at 0x7f3354058b90>"
            ]
          },
          "metadata": {
            "tags": []
          },
          "execution_count": 22
        },
        {
          "output_type": "display_data",
          "data": {
            "image/png": "[encoded data removed]",
            "text/plain": [
              "<Figure size 432x288 with 1 Axes>"
            ]
          },
          "metadata": {
            "tags": []
          }
        }
      ]
    },
    {
      "cell_type": "code",
      "metadata": {
        "id": "iboxc2qGnK7x",
        "outputId": "91e129d6-1c0f-4f43-ce28-d1b2416c813f",
        "colab": {
          "base_uri": "https://localhost:8080/",
          "height": 363
        }
      },
      "source": [
        "coffeesales = df[df['Item'] == 'Coffee']\n",
        "coffeesales.head(10)"
      ],
      "execution_count": 26,
      "outputs": [
        {
          "output_type": "execute_result",
          "data": {
            "text/html": [
              "<div>\n",
              "<style scoped>\n",
              "    .dataframe tbody tr th:only-of-type {\n",
              "        vertical-align: middle;\n",
              "    }\n",
              "\n",
              "    .dataframe tbody tr th {\n",
              "        vertical-align: top;\n",
              "    }\n",
              "\n",
              "    .dataframe thead th {\n",
              "        text-align: right;\n",
              "    }\n",
              "</style>\n",
              "<table border=\"1\" class=\"dataframe\">\n",
              "  <thead>\n",
              "    <tr style=\"text-align: right;\">\n",
              "      <th></th>\n",
              "      <th>Date</th>\n",
              "      <th>Time</th>\n",
              "      <th>Transaction</th>\n",
              "      <th>Item</th>\n",
              "      <th>Year</th>\n",
              "      <th>Month</th>\n",
              "      <th>Day</th>\n",
              "      <th>Hour</th>\n",
              "    </tr>\n",
              "  </thead>\n",
              "  <tbody>\n",
              "    <tr>\n",
              "      <th>7</th>\n",
              "      <td>2016-10-30</td>\n",
              "      <td>10:13:03</td>\n",
              "      <td>5</td>\n",
              "      <td>Coffee</td>\n",
              "      <td>2016</td>\n",
              "      <td>10</td>\n",
              "      <td>30</td>\n",
              "      <td>2016</td>\n",
              "    </tr>\n",
              "    <tr>\n",
              "      <th>15</th>\n",
              "      <td>2016-10-30</td>\n",
              "      <td>10:19:12</td>\n",
              "      <td>7</td>\n",
              "      <td>Coffee</td>\n",
              "      <td>2016</td>\n",
              "      <td>10</td>\n",
              "      <td>30</td>\n",
              "      <td>2016</td>\n",
              "    </tr>\n",
              "    <tr>\n",
              "      <th>28</th>\n",
              "      <td>2016-10-30</td>\n",
              "      <td>10:30:14</td>\n",
              "      <td>12</td>\n",
              "      <td>Coffee</td>\n",
              "      <td>2016</td>\n",
              "      <td>10</td>\n",
              "      <td>30</td>\n",
              "      <td>2016</td>\n",
              "    </tr>\n",
              "    <tr>\n",
              "      <th>34</th>\n",
              "      <td>2016-10-30</td>\n",
              "      <td>10:31:24</td>\n",
              "      <td>13</td>\n",
              "      <td>Coffee</td>\n",
              "      <td>2016</td>\n",
              "      <td>10</td>\n",
              "      <td>30</td>\n",
              "      <td>2016</td>\n",
              "    </tr>\n",
              "    <tr>\n",
              "      <th>44</th>\n",
              "      <td>2016-10-30</td>\n",
              "      <td>10:37:08</td>\n",
              "      <td>16</td>\n",
              "      <td>Coffee</td>\n",
              "      <td>2016</td>\n",
              "      <td>10</td>\n",
              "      <td>30</td>\n",
              "      <td>2016</td>\n",
              "    </tr>\n",
              "    <tr>\n",
              "      <th>51</th>\n",
              "      <td>2016-10-30</td>\n",
              "      <td>10:49:29</td>\n",
              "      <td>21</td>\n",
              "      <td>Coffee</td>\n",
              "      <td>2016</td>\n",
              "      <td>10</td>\n",
              "      <td>30</td>\n",
              "      <td>2016</td>\n",
              "    </tr>\n",
              "    <tr>\n",
              "      <th>52</th>\n",
              "      <td>2016-10-30</td>\n",
              "      <td>10:49:29</td>\n",
              "      <td>21</td>\n",
              "      <td>Coffee</td>\n",
              "      <td>2016</td>\n",
              "      <td>10</td>\n",
              "      <td>30</td>\n",
              "      <td>2016</td>\n",
              "    </tr>\n",
              "    <tr>\n",
              "      <th>62</th>\n",
              "      <td>2016-10-30</td>\n",
              "      <td>11:03:24</td>\n",
              "      <td>28</td>\n",
              "      <td>Coffee</td>\n",
              "      <td>2016</td>\n",
              "      <td>10</td>\n",
              "      <td>30</td>\n",
              "      <td>2016</td>\n",
              "    </tr>\n",
              "    <tr>\n",
              "      <th>71</th>\n",
              "      <td>2016-10-30</td>\n",
              "      <td>11:22:49</td>\n",
              "      <td>33</td>\n",
              "      <td>Coffee</td>\n",
              "      <td>2016</td>\n",
              "      <td>10</td>\n",
              "      <td>30</td>\n",
              "      <td>2016</td>\n",
              "    </tr>\n",
              "    <tr>\n",
              "      <th>72</th>\n",
              "      <td>2016-10-30</td>\n",
              "      <td>11:25:45</td>\n",
              "      <td>34</td>\n",
              "      <td>Coffee</td>\n",
              "      <td>2016</td>\n",
              "      <td>10</td>\n",
              "      <td>30</td>\n",
              "      <td>2016</td>\n",
              "    </tr>\n",
              "  </tbody>\n",
              "</table>\n",
              "</div>"
            ],
            "text/plain": [
              "          Date      Time  Transaction    Item  Year Month Day  Hour\n",
              "7   2016-10-30  10:13:03            5  Coffee  2016    10  30  2016\n",
              "15  2016-10-30  10:19:12            7  Coffee  2016    10  30  2016\n",
              "28  2016-10-30  10:30:14           12  Coffee  2016    10  30  2016\n",
              "34  2016-10-30  10:31:24           13  Coffee  2016    10  30  2016\n",
              "44  2016-10-30  10:37:08           16  Coffee  2016    10  30  2016\n",
              "51  2016-10-30  10:49:29           21  Coffee  2016    10  30  2016\n",
              "52  2016-10-30  10:49:29           21  Coffee  2016    10  30  2016\n",
              "62  2016-10-30  11:03:24           28  Coffee  2016    10  30  2016\n",
              "71  2016-10-30  11:22:49           33  Coffee  2016    10  30  2016\n",
              "72  2016-10-30  11:25:45           34  Coffee  2016    10  30  2016"
            ]
          },
          "metadata": {
            "tags": []
          },
          "execution_count": 26
        }
      ]
    },
    {
      "cell_type": "code",
      "metadata": {
        "id": "rkppGHbynyU3",
        "outputId": "205714b7-863e-4880-d44b-ae39fcdabfd3",
        "colab": {
          "base_uri": "https://localhost:8080/"
        }
      },
      "source": [
        "coffeeTime = coffeesales['Hour'].value_counts()\n",
        "coffeeTime = coffeesales['Hour'].value_counts().sort_index()\n",
        "coffeeTime"
      ],
      "execution_count": 28,
      "outputs": [
        {
          "output_type": "execute_result",
          "data": {
            "text/plain": [
              "2016    2214\n",
              "2017    3257\n",
              "Name: Hour, dtype: int64"
            ]
          },
          "metadata": {
            "tags": []
          },
          "execution_count": 28
        }
      ]
    }
  ]
}